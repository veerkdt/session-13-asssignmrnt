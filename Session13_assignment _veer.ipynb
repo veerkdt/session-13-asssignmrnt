{
 "cells": [
  {
   "cell_type": "raw",
   "metadata": {},
   "source": [
    "Problem Statement 1: [100 marks]\n",
    "A company manufactures LED bulbs with a faulty rate of 30%. If I randomly select 6 chosen LEDs, what\n",
    "is the probability of having 2 faulty LEDs in my sample? Calculate the average value of this process. Also\n",
    "evaluate the standard deviation associated with it."
   ]
  },
  {
   "cell_type": "code",
   "execution_count": null,
   "metadata": {},
   "outputs": [],
   "source": []
  },
  {
   "cell_type": "raw",
   "metadata": {},
   "source": [
    "Problem Statement 2: [100 marks]\n",
    "Gaurav and Barakha are both preparing for entrance exams. Gaurav attempts to solve 8 questions per day\n",
    "with a correction rate of 75%, while Barakha averages around 12 questions per day with a correction rate\n",
    "of 45%. What is the probability that each of them will solve 5 questions correctly? What happens in cases\n",
    "of 4 and 6 correct solutions? What do you infer from it? What are the two main governing factors\n",
    "affecting their ability to solve questions correctly? Give a pictorial representation of the same to validate\n",
    "your answer."
   ]
  },
  {
   "cell_type": "code",
   "execution_count": null,
   "metadata": {},
   "outputs": [],
   "source": []
  },
  {
   "cell_type": "raw",
   "metadata": {},
   "source": [
    "Problem Statement 3: [100 marks]\n",
    "Customers arrive at a rate of 72 per hour to my shop. What is the probability of k customers arriving in 4\n",
    "minutes? a) 5 customers, b) not more than 3 customers, c) more than 3 customers. Give a pictorial\n",
    "representation of the same to validate your answer."
   ]
  },
  {
   "cell_type": "code",
   "execution_count": null,
   "metadata": {},
   "outputs": [],
   "source": []
  },
  {
   "cell_type": "raw",
   "metadata": {},
   "source": [
    "Problem Statement 4: [100 marks]\n",
    "I work as a data analyst in Aeon Learning Pvt. Ltd. After analyzing data, I make reports, where I have the\n",
    "efficiency of entering 77 words per minute with 6 errors per hour. What is the probability that I will\n",
    "commit 2 errors in a 455-word financial report?\n",
    "What happens when the no. of words increases (in case of 1000 words) or decreases (255 words)? How is\n",
    "the λ affected? How does it influence the PMF? Give a pictorial representation of the same to validate\n",
    "your answer."
   ]
  },
  {
   "cell_type": "code",
   "execution_count": null,
   "metadata": {},
   "outputs": [],
   "source": []
  },
  {
   "cell_type": "raw",
   "metadata": {},
   "source": [
    "Problem Statement 5: [100 marks]\n",
    "The current measured in a copper wire is modelled by a continuous random variable 𝑋. 𝑋 is in\n",
    "milliamperes. Assume that the range of X is [0, 20 mA]. The probability density function is given by,\n",
    "𝑓(𝑥) = 0.05 for 0 ≤ 𝑥 ≤ 20. What is the probability that a current measurement is less than 10\n",
    "milliamperes? Draw the PDF and the CDF diagrams as well."
   ]
  },
  {
   "cell_type": "code",
   "execution_count": null,
   "metadata": {},
   "outputs": [],
   "source": []
  }
 ],
 "metadata": {
  "kernelspec": {
   "display_name": "Python 3",
   "language": "python",
   "name": "python3"
  },
  "language_info": {
   "codemirror_mode": {
    "name": "ipython",
    "version": 3
   },
   "file_extension": ".py",
   "mimetype": "text/x-python",
   "name": "python",
   "nbconvert_exporter": "python",
   "pygments_lexer": "ipython3",
   "version": "3.7.0"
  }
 },
 "nbformat": 4,
 "nbformat_minor": 2
}
